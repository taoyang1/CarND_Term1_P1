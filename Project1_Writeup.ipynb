{
 "cells": [
  {
   "cell_type": "markdown",
   "metadata": {
    "deletable": true,
    "editable": true
   },
   "source": [
    "## **Finding Lane Lines on the Road** \n",
    "\n",
    "### Tao Yang, March 22, 2017\n",
    "\n",
    "\n",
    "---\n",
    "\n",
    "**Finding Lane Lines on the Road**\n",
    "\n",
    "The goals / steps of this project are the following:\n",
    "* Make a pipeline that finds lane lines on the road\n",
    "* Reflect on your work in a written report\n",
    "\n",
    "\n",
    "[//]: # (Image References)\n",
    "\n",
    "[image1]: ./test_images_out/out_solidWhiteCurve.jpg \"solidWhiteCurve\"\n",
    "[image2]: ./test_images_out/out_solidWhiteRight.jpg \"solidWhiteRight\"\n",
    "[image3]: ./test_images_out/out_solidYellowCurve.jpg \"solidYellowCurve\"\n",
    "[image4]: ./test_images_out/out_solidYellowCurve2.jpg \"solidYellowCurve2\"\n",
    "[image5]: ./test_images_out/out_solidYellowLeft.jpg \"solidYellowLeft\"\n",
    "[image6]: ./test_images_out/out_whiteCarLaneSwitch.jpg \"whiteCarLaneSwitch\"\n",
    "\n",
    "\n",
    "---\n",
    "\n",
    "### Reflection\n",
    "\n",
    "#### 1. Describe your pipeline. As part of the description, explain how you modified the draw_lines() function.\n",
    "\n",
    "My pipeline consisted of the following 6 steps:\n",
    "\n",
    "1. Convert the images to grayscale;\n",
    "2. Apply Gaussian smoothing to blur the image;\n",
    "3. Apply Canny transformation to the image;\n",
    "4. Mask the image with a four side polygon;\n",
    "5. Run Hough transformation on detected edges to extract lines;\n",
    "6. Draw connected lines on the raw images.\n",
    "\n",
    "In order to draw a single line on the left and right lanes, I modified the draw_lines() function by the following steps:\n",
    "\n",
    "1. For each line segment in the returned list of Hough transformation, calculate their slope by m = (y2-y1)/(x2-x1)\n",
    "2. Test if m is positive or negative. If m > 0, then this line belong to the right line, if m < 0, the left line.\n",
    "3. Count all the line segments that belong to the left line, denoted as left_count, similarly for right_count.\n",
    "4. For all line segments belong to the left line set, cacluate their mid point x_left_mid by averaging all the x coordinates. Repeat this steps for x_right_mid, y_left_mid and y_right_mid. \n",
    "5. Calculate the average slope for the left line and the right line by taking the average of all the slopes, denote them by m_left and m_right.\n",
    "6. Finally extrapolate the line from (x_left_mid, y_left_mid) and (x_right_mid, y_right_mid) to both top and bottom of the lane. The y-coordinate of the top and bottom are selected to be img.shape[0] and 350. Their x-coordinate can be calcuated using m_left and m_right.\n",
    "\n",
    "The results of running my pipeline on the test images yield the following output:\n",
    "\n",
    "![alt text][image1]\n",
    "![alt text][image2]\n",
    "![alt text][image3]\n",
    "![alt text][image4]\n",
    "![alt text][image5]\n",
    "![alt text][image6]\n",
    "\n",
    "#### 2. Identify potential shortcomings with your current pipeline\n",
    "\n",
    "\n",
    "i. One potential shortcoming would be what would happen when there is curved lane. \n",
    "\n",
    "ii. Another shortcoming could be when there are horizontal lines cross the line.\n",
    "\n",
    "iii. Another shortcoming is the manual and tedious process of tuning parameters for Canny, Hough, etc. It will be good to automate such process via machine learning.\n",
    "\n",
    "\n",
    "#### 3. Suggest possible improvements to your pipeline\n",
    "\n",
    "A possible improvement would be to in the draw line function, instead of simplying using the sign of m (slope) to determine weather it's left line or right line, use kNN to detect two groups of slopes. This will automatically discard those horizontal lines and avoid the manual process.\n",
    "\n"
   ]
  },
  {
   "cell_type": "markdown",
   "metadata": {
    "deletable": true,
    "editable": true
   },
   "source": [
    "\n"
   ]
  }
 ],
 "metadata": {
  "kernelspec": {
   "display_name": "Python 3",
   "language": "python",
   "name": "python3"
  },
  "language_info": {
   "codemirror_mode": {
    "name": "ipython",
    "version": 3
   },
   "file_extension": ".py",
   "mimetype": "text/x-python",
   "name": "python",
   "nbconvert_exporter": "python",
   "pygments_lexer": "ipython3",
   "version": "3.5.2"
  },
  "widgets": {
   "state": {},
   "version": "1.1.2"
  }
 },
 "nbformat": 4,
 "nbformat_minor": 2
}
